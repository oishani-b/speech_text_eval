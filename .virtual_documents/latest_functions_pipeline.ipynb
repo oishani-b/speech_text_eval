# all imports
import pandas as pd
import csv


def read_and_clean_session_results(file_name):
    
    # Read the csv file with session data, should be called results.csv
    # Example file path:
    # '/Users/oishanibandopadhyay/Documents/Revising Honors Project/session-67d94e1a42f12a9364065df2-data/results.csv'
    df = pd.read_csv(file_name)

    # Dropping irrelevant columns for analysis
    df.drop(['expt_id', 'group_id', 'network_error_repeat', 'participation_duration', 'response_correct', 'response_mode', 'response_rt', 'response_target', 'session_start_time', 'trial_duration', 'trial_num', 'trial_template'], axis='columns')

    # Re-order columns for better readability
    clean_df = df[['session_id', 'participant_id', 'stimuli_presented', 'response_type', 'response_name', 'response_value']]

    # Return cleaned dataframe
    return clean_df


# Test run
df = read_and_clean_session_results('/Users/oishanibandopadhyay/Documents/Revising Honors Project/session-67d94e1a42f12a9364065df2-data/results.csv')
df


def add_lang_bg_3(df):

    # first, we make a filter with the stimuli being LangBgQ3
    lang_bg_q3_filtered = df[df.loc[:, 'stimuli_presented'] == 'LangBgQ3']
    lang_bg_q3_filtered
    
    # next, we set the index to be participant_id for the mapping
    lang_bg_q3_indexed = lang_bg_q3_filtered.set_index('participant_id')
    lang_bg_q3_indexed
    
    
    # then, we get out the 'response_value' column for the mapping
    lang_bg_q3_map = lang_bg_q3_indexed['response_value']
    lang_bg_q3_map
    
    # then, we use the map function 
    df.loc[:, 'lang_bg_q3_resp'] = df.loc[:, 'participant_id'].map(lang_bg_q3_map)
    df
    
    # next, we're going to add a column for lang_bg_q3_english_only as a binary encoder
    df.loc[:, 'lang_bg_q3_english_only'] = df.loc[:, 'lang_bg_q3_resp'].apply(lambda x: isinstance(x, str) and 'None besides English' in x)
    df

    return df

# Test run
df = add_lang_bg_3(df)
df


def add_prompts_from_stimulus_definitions(df):

    # read in stimulus definitions file
    stimulus_definitions = pd.read_csv('/Users/oishanibandopadhyay/Documents/Revising Honors Project/stimulus-definitions.csv')

    # drop irrelevant type column
    stimulus_definitions = stimulus_definitions.drop(['type'], axis='columns')

    # reorder and rename columns and set name as the index to later merge
    stimulus_definitions = stimulus_definitions[['name', 'content']]
    stimulus_definitions = stimulus_definitions.set_index('name')
    stimulus_definitions = stimulus_definitions.rename(columns = {'content': 'prompt_text'})

    # merge prompt_name column to the df
    df = df.merge(stimulus_definitions, left_on = 'stimuli_presented', right_index = True, how = 'left')

    return df

# Test run
df = add_prompts_from_stimulus_definitions(df)
df



